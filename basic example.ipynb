{
 "cells": [
  {
   "cell_type": "code",
   "execution_count": null,
   "id": "5b57e4c6-290d-4646-b773-0fe6c4f8d2e4",
   "metadata": {},
   "outputs": [],
   "source": [
    "from PYwordTester.test_runner import testInstance\n",
    "from PYwordTester.test_context import TestContext\n",
    "\n",
    "SN = '123456789'\n",
    "\n",
    "context = TestContext(DUT_SerialNumber=SN,globals_to_import=r'TestExamples/')              ## create a test context, optionally also load all pyton files as globals on the specific path \n",
    "test = testInstance(r'TestExamples/test_sinewave.docx',context)                            ## create a test with a word file and a test context\n",
    "#test.run(selectedGroups ='infra')                                                          ## execute test in context for selected groups (groups are optional)\n",
    "test.run()                                                                                 ## execute all tests \n",
    "test.addTestSummaryFrontPage()                                                             ## option, add test result summary on the first page of the document\n",
    "test.saveFile(rf'report\\testresult_{SN}.docx', openFile=True)                              ## save file with the test results, open file after save for user review (optional) "
   ]
  },
  {
   "cell_type": "code",
   "execution_count": null,
   "id": "5388f048-f272-4a67-ab75-f2002fc1aac0",
   "metadata": {
    "scrolled": true
   },
   "outputs": [],
   "source": [
    "test.getTestSummary()"
   ]
  },
  {
   "cell_type": "code",
   "execution_count": null,
   "id": "46328564-3205-4e48-9d15-f04809a5a15e",
   "metadata": {
    "scrolled": true
   },
   "outputs": [],
   "source": [
    "test.getTestKVP()"
   ]
  }
 ],
 "metadata": {
  "kernelspec": {
   "display_name": "Python 3 (ipykernel)",
   "language": "python",
   "name": "python3"
  },
  "language_info": {
   "codemirror_mode": {
    "name": "ipython",
    "version": 3
   },
   "file_extension": ".py",
   "mimetype": "text/x-python",
   "name": "python",
   "nbconvert_exporter": "python",
   "pygments_lexer": "ipython3",
   "version": "3.11.4"
  }
 },
 "nbformat": 4,
 "nbformat_minor": 5
}

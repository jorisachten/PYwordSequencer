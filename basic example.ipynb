{
 "cells": [
  {
   "cell_type": "code",
   "execution_count": 3,
   "id": "5b57e4c6-290d-4646-b773-0fe6c4f8d2e4",
   "metadata": {},
   "outputs": [
    {
     "ename": "ModuleNotFoundError",
     "evalue": "No module named 'PYwordTester'",
     "output_type": "error",
     "traceback": [
      "\u001b[1;31m---------------------------------------------------------------------------\u001b[0m",
      "\u001b[1;31mModuleNotFoundError\u001b[0m                       Traceback (most recent call last)",
      "Cell \u001b[1;32mIn[3], line 1\u001b[0m\n\u001b[1;32m----> 1\u001b[0m \u001b[38;5;28;01mfrom\u001b[39;00m \u001b[38;5;21;01mPYwordTester\u001b[39;00m\u001b[38;5;21;01m.\u001b[39;00m\u001b[38;5;21;01mtest_runner\u001b[39;00m \u001b[38;5;28;01mimport\u001b[39;00m testInstance\n\u001b[0;32m      2\u001b[0m \u001b[38;5;28;01mfrom\u001b[39;00m \u001b[38;5;21;01mPYwordTester\u001b[39;00m\u001b[38;5;21;01m.\u001b[39;00m\u001b[38;5;21;01mtest_context\u001b[39;00m \u001b[38;5;28;01mimport\u001b[39;00m TestContext\n\u001b[0;32m      5\u001b[0m context \u001b[38;5;241m=\u001b[39m TestContext(\u001b[38;5;124m'\u001b[39m\u001b[38;5;124m0123\u001b[39m\u001b[38;5;124m'\u001b[39m)                                       \u001b[38;5;66;03m## create a test context for SN 0123\u001b[39;00m\n",
      "\u001b[1;31mModuleNotFoundError\u001b[0m: No module named 'PYwordTester'"
     ]
    }
   ],
   "source": [
    "from PYwordTester.test_runner import testInstance\n",
    "from PYwordTester.test_context import TestContext\n",
    "\n",
    "\n",
    "context = TestContext('0123')                                       ## create a test context for SN 0123\n",
    "test = testInstance(r'TestExamples/test_sinewave.docx',context)     ## create a test with a word file and a test context\n",
    "#test.run(selectedGroups ='sine') ## execute test in context for selected groups (groups are optional)\n",
    "test.run() ## execute all tests \n",
    "test.addTestSummaryFrontPage()             ## option, add test result summary on the first page of the document\n",
    "test.saveFile(r'report/testresult_basic_tester.docx', openFile=True)    ## save file with the test results, open file after save for user review (optional) "
   ]
  }
 ],
 "metadata": {
  "kernelspec": {
   "display_name": "Python 3 (ipykernel)",
   "language": "python",
   "name": "python3"
  },
  "language_info": {
   "codemirror_mode": {
    "name": "ipython",
    "version": 3
   },
   "file_extension": ".py",
   "mimetype": "text/x-python",
   "name": "python",
   "nbconvert_exporter": "python",
   "pygments_lexer": "ipython3",
   "version": "3.12.10"
  }
 },
 "nbformat": 4,
 "nbformat_minor": 5
}

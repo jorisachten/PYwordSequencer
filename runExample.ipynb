{
 "cells": [
  {
   "cell_type": "code",
   "execution_count": 1,
   "id": "36f5510e-3ea6-43b5-ac5c-46735e020319",
   "metadata": {},
   "outputs": [],
   "source": [
    "from PYwordTester.test_runner import testInstance\n",
    "from PYwordTester.test_context import TestContext"
   ]
  },
  {
   "cell_type": "markdown",
   "id": "2a440dc2-3812-46f2-bbd8-be9d5675cf50",
   "metadata": {},
   "source": [
    "# PYwordTester usage example\n",
    "\n",
    "This example demonstrates a human friendly terminal menu to load and execute tests. You can also have a look at the basic test example for minimal understanding."
   ]
  },
  {
   "cell_type": "markdown",
   "id": "2b711685-135e-40f4-8431-c1153ddbc06e",
   "metadata": {},
   "source": [
    "## imports and settings for example\n",
    "In the cell below you can set in which folder the script looks for tests to be executed, and where to place the filled in reports. This needs to be a local path."
   ]
  },
  {
   "cell_type": "code",
   "execution_count": 2,
   "id": "65585d2d-90f8-4e8c-afeb-8cd67a5ae91a",
   "metadata": {},
   "outputs": [],
   "source": [
    "from pathlib import Path\n",
    "from datetime import datetime\n",
    "import os\n",
    "\n",
    "test_folder = Path('TestExamples')\n",
    "test_folder.mkdir(exist_ok=True)\n",
    "report_folder = Path('report')\n",
    "report_folder.mkdir(exist_ok=True)"
   ]
  },
  {
   "cell_type": "markdown",
   "id": "b50b0010-c71b-4427-92e4-89fd6c88a7dd",
   "metadata": {},
   "source": [
    "## Select and execut\n",
    "scan through the given test folder for all .docx files and present them to an user. The user can enter a number corrosponding to an item to execute the test"
   ]
  },
  {
   "cell_type": "code",
   "execution_count": 3,
   "id": "c1b770ac-6f95-4a9a-ab75-3e59346c02ec",
   "metadata": {},
   "outputs": [
    {
     "name": "stdout",
     "output_type": "stream",
     "text": [
      "\n",
      "Available .docx files in test folder 'TestExamples':\n",
      "No.   File Name                                Last Modified       \n",
      "----------------------------------------------------------------------\n",
      "[1 ] test_sinewave.docx                       24-Apr-2025 22:06:52\n"
     ]
    },
    {
     "name": "stdin",
     "output_type": "stream",
     "text": [
      "\n",
      "Enter the number of your chosen test (or 0 to cancel):  1\n"
     ]
    },
    {
     "name": "stdout",
     "output_type": "stream",
     "text": [
      "Evaluating Basic test example of a sine wave --> ENABLED\n"
     ]
    },
    {
     "name": "stdin",
     "output_type": "stream",
     "text": [
      "What offset would you like? 0.1\n"
     ]
    },
    {
     "name": "stdout",
     "output_type": "stream",
     "text": [
      "FAILED!!\n"
     ]
    }
   ],
   "source": [
    "## lookup all docx files, and sort them from new to old\n",
    "docx_files = sorted(\n",
    "    [f for f in test_folder.glob(\"*.docx\")],\n",
    "    key=lambda f: f.stat().st_mtime,\n",
    "    reverse=True\n",
    ")\n",
    "\n",
    "\n",
    "## show user what files he can pick\n",
    "print(f\"\\nAvailable .docx files in test folder '{test_folder}':\")\n",
    "print(f\"{'No.':<5} {'File Name':<40} {'Last Modified':<20}\")\n",
    "print('-' * 70)\n",
    "\n",
    "file_data = [(i, f.name, datetime.fromtimestamp(f.stat().st_mtime).strftime('%d-%b-%Y %H:%M:%S')) \n",
    "             for i, f in enumerate(docx_files, start=1)]\n",
    "\n",
    "for i, name, date in file_data:\n",
    "    print(f\"[{i:<2}] {name:<40} {date:<20}\")\n",
    "\n",
    "\n",
    "## let user pick a file, run test for selected file\n",
    "file_name = ''\n",
    "while file_name == '':\n",
    "    choice = input(\"\\nEnter the number of your chosen test (or 0 to cancel): \")\n",
    "    if choice.isdigit(): \n",
    "        if int(choice) == 0:\n",
    "            file_name = None\n",
    "        elif int(choice) <= len(docx_files):\n",
    "            file_name = file_data[int(choice) - 1][1]\n",
    "\n",
    "            ##### execute the test ######\n",
    "            context = TestContext('NA')\n",
    "            test = testInstance(test_folder / file_name, context)\n",
    "            test.run()\n",
    "            test.addTestSummaryFrontPage()\n",
    "            test.saveFile(report_folder / 'testresult.docx', True)\n",
    "\n",
    "            #############################\n",
    "        \n",
    "        else:\n",
    "            print(\"Invalid number.\")\n",
    "    else:\n",
    "        print(\"Invalid choise.\")"
   ]
  },
  {
   "cell_type": "markdown",
   "id": "30cb92a8-07aa-4dfc-9468-1cc885b45956",
   "metadata": {},
   "source": [
    "## Third party integration\n",
    "below you can see some panda DF tables that you can use to integrate third party outputs like excel files, databases, ..."
   ]
  },
  {
   "cell_type": "code",
   "execution_count": 9,
   "id": "c969ece1-5436-497d-8878-a77f2ca4a58e",
   "metadata": {},
   "outputs": [
    {
     "data": {
      "text/html": [
       "<div>\n",
       "<style scoped>\n",
       "    .dataframe tbody tr th:only-of-type {\n",
       "        vertical-align: middle;\n",
       "    }\n",
       "\n",
       "    .dataframe tbody tr th {\n",
       "        vertical-align: top;\n",
       "    }\n",
       "\n",
       "    .dataframe thead th {\n",
       "        text-align: right;\n",
       "    }\n",
       "</style>\n",
       "<table border=\"1\" class=\"dataframe\">\n",
       "  <thead>\n",
       "    <tr style=\"text-align: right;\">\n",
       "      <th></th>\n",
       "      <th>title</th>\n",
       "      <th>test_date</th>\n",
       "      <th>group</th>\n",
       "      <th>mode</th>\n",
       "      <th>Result</th>\n",
       "      <th>Summary</th>\n",
       "    </tr>\n",
       "  </thead>\n",
       "  <tbody>\n",
       "    <tr>\n",
       "      <th>0</th>\n",
       "      <td>Basic test example of a sine wave</td>\n",
       "      <td>2025-04-24 22:23:15</td>\n",
       "      <td>sine</td>\n",
       "      <td>ENABLED</td>\n",
       "      <td>FAIL</td>\n",
       "      <td>9/10 PASSED</td>\n",
       "    </tr>\n",
       "  </tbody>\n",
       "</table>\n",
       "</div>"
      ],
      "text/plain": [
       "                               title            test_date group     mode  \\\n",
       "0  Basic test example of a sine wave  2025-04-24 22:23:15  sine  ENABLED   \n",
       "\n",
       "  Result      Summary  \n",
       "0   FAIL  9/10 PASSED  "
      ]
     },
     "execution_count": 9,
     "metadata": {},
     "output_type": "execute_result"
    }
   ],
   "source": [
    "test.getTestSummary()"
   ]
  },
  {
   "cell_type": "code",
   "execution_count": 10,
   "id": "80c4bfbb-d8a7-49cd-92e8-c4384eaf0478",
   "metadata": {},
   "outputs": [
    {
     "data": {
      "text/html": [
       "<div>\n",
       "<style scoped>\n",
       "    .dataframe tbody tr th:only-of-type {\n",
       "        vertical-align: middle;\n",
       "    }\n",
       "\n",
       "    .dataframe tbody tr th {\n",
       "        vertical-align: top;\n",
       "    }\n",
       "\n",
       "    .dataframe thead th {\n",
       "        text-align: right;\n",
       "    }\n",
       "</style>\n",
       "<table border=\"1\" class=\"dataframe\">\n",
       "  <thead>\n",
       "    <tr style=\"text-align: right;\">\n",
       "      <th></th>\n",
       "      <th>KVP</th>\n",
       "      <th>Action</th>\n",
       "      <th>LL</th>\n",
       "      <th>UL</th>\n",
       "      <th>Actual</th>\n",
       "      <th>Pass/Fail</th>\n",
       "    </tr>\n",
       "  </thead>\n",
       "  <tbody>\n",
       "    <tr>\n",
       "      <th>0</th>\n",
       "      <td></td>\n",
       "      <td>import numpy as np</td>\n",
       "      <td></td>\n",
       "      <td></td>\n",
       "      <td></td>\n",
       "      <td>EXECUTED</td>\n",
       "    </tr>\n",
       "    <tr>\n",
       "      <th>1</th>\n",
       "      <td></td>\n",
       "      <td>import matplotlib.pyplot as plt</td>\n",
       "      <td></td>\n",
       "      <td></td>\n",
       "      <td></td>\n",
       "      <td>EXECUTED</td>\n",
       "    </tr>\n",
       "    <tr>\n",
       "      <th>2</th>\n",
       "      <td></td>\n",
       "      <td>off=float(input(\"What offset would you like?\"))</td>\n",
       "      <td></td>\n",
       "      <td></td>\n",
       "      <td></td>\n",
       "      <td>EXECUTED</td>\n",
       "    </tr>\n",
       "    <tr>\n",
       "      <th>3</th>\n",
       "      <td></td>\n",
       "      <td>x = np.linspace(0, 2 * np.pi, 20)</td>\n",
       "      <td></td>\n",
       "      <td></td>\n",
       "      <td></td>\n",
       "      <td>EXECUTED</td>\n",
       "    </tr>\n",
       "    <tr>\n",
       "      <th>4</th>\n",
       "      <td></td>\n",
       "      <td>y = np.sin(x) + off  # Compute sine of x</td>\n",
       "      <td></td>\n",
       "      <td></td>\n",
       "      <td></td>\n",
       "      <td>EXECUTED</td>\n",
       "    </tr>\n",
       "    <tr>\n",
       "      <th>5</th>\n",
       "      <td>S_max</td>\n",
       "      <td>max(y)</td>\n",
       "      <td>0.5</td>\n",
       "      <td>1.5</td>\n",
       "      <td>0.997</td>\n",
       "      <td>PASS</td>\n",
       "    </tr>\n",
       "    <tr>\n",
       "      <th>6</th>\n",
       "      <td></td>\n",
       "      <td>min(y)</td>\n",
       "      <td>-1</td>\n",
       "      <td>-1.5</td>\n",
       "      <td>-0.997</td>\n",
       "      <td>FAIL</td>\n",
       "    </tr>\n",
       "    <tr>\n",
       "      <th>7</th>\n",
       "      <td></td>\n",
       "      <td>fig, ax = plt.subplots()</td>\n",
       "      <td></td>\n",
       "      <td></td>\n",
       "      <td></td>\n",
       "      <td>EXECUTED</td>\n",
       "    </tr>\n",
       "    <tr>\n",
       "      <th>8</th>\n",
       "      <td></td>\n",
       "      <td>ax.plot(x, y)</td>\n",
       "      <td></td>\n",
       "      <td></td>\n",
       "      <td></td>\n",
       "      <td>EXECUTED</td>\n",
       "    </tr>\n",
       "    <tr>\n",
       "      <th>9</th>\n",
       "      <td></td>\n",
       "      <td>fig</td>\n",
       "      <td></td>\n",
       "      <td></td>\n",
       "      <td></td>\n",
       "      <td>EXECUTED</td>\n",
       "    </tr>\n",
       "  </tbody>\n",
       "</table>\n",
       "</div>"
      ],
      "text/plain": [
       "     KVP                                           Action   LL    UL  Actual  \\\n",
       "0                                      import numpy as np                      \n",
       "1                         import matplotlib.pyplot as plt                      \n",
       "2         off=float(input(\"What offset would you like?\"))                      \n",
       "3                       x = np.linspace(0, 2 * np.pi, 20)                      \n",
       "4                y = np.sin(x) + off  # Compute sine of x                      \n",
       "5  S_max                                           max(y)  0.5   1.5   0.997   \n",
       "6                                                  min(y)   -1  -1.5  -0.997   \n",
       "7                                fig, ax = plt.subplots()                      \n",
       "8                                           ax.plot(x, y)                      \n",
       "9                                                     fig                      \n",
       "\n",
       "  Pass/Fail  \n",
       "0  EXECUTED  \n",
       "1  EXECUTED  \n",
       "2  EXECUTED  \n",
       "3  EXECUTED  \n",
       "4  EXECUTED  \n",
       "5      PASS  \n",
       "6      FAIL  \n",
       "7  EXECUTED  \n",
       "8  EXECUTED  \n",
       "9  EXECUTED  "
      ]
     },
     "execution_count": 10,
     "metadata": {},
     "output_type": "execute_result"
    }
   ],
   "source": [
    "test.getTestDetails()"
   ]
  },
  {
   "cell_type": "code",
   "execution_count": 11,
   "id": "1c123719-c003-4aa4-9ecd-9cf6632e49f4",
   "metadata": {},
   "outputs": [
    {
     "data": {
      "text/html": [
       "<div>\n",
       "<style scoped>\n",
       "    .dataframe tbody tr th:only-of-type {\n",
       "        vertical-align: middle;\n",
       "    }\n",
       "\n",
       "    .dataframe tbody tr th {\n",
       "        vertical-align: top;\n",
       "    }\n",
       "\n",
       "    .dataframe thead th {\n",
       "        text-align: right;\n",
       "    }\n",
       "</style>\n",
       "<table border=\"1\" class=\"dataframe\">\n",
       "  <thead>\n",
       "    <tr style=\"text-align: right;\">\n",
       "      <th></th>\n",
       "      <th>KVP</th>\n",
       "      <th>Action</th>\n",
       "      <th>LL</th>\n",
       "      <th>UL</th>\n",
       "      <th>Actual</th>\n",
       "      <th>Pass/Fail</th>\n",
       "    </tr>\n",
       "  </thead>\n",
       "  <tbody>\n",
       "    <tr>\n",
       "      <th>0</th>\n",
       "      <td>S_max</td>\n",
       "      <td>max(y)</td>\n",
       "      <td>0.5</td>\n",
       "      <td>1.5</td>\n",
       "      <td>0.997</td>\n",
       "      <td>PASS</td>\n",
       "    </tr>\n",
       "  </tbody>\n",
       "</table>\n",
       "</div>"
      ],
      "text/plain": [
       "     KVP  Action   LL   UL Actual Pass/Fail\n",
       "0  S_max  max(y)  0.5  1.5  0.997      PASS"
      ]
     },
     "execution_count": 11,
     "metadata": {},
     "output_type": "execute_result"
    }
   ],
   "source": [
    "test.getTestKVP()"
   ]
  },
  {
   "cell_type": "raw",
   "id": "9b071624-69a8-4da0-808f-8c423f5bb7d3",
   "metadata": {},
   "source": []
  }
 ],
 "metadata": {
  "kernelspec": {
   "display_name": "Python 3 (ipykernel)",
   "language": "python",
   "name": "python3"
  },
  "language_info": {
   "codemirror_mode": {
    "name": "ipython",
    "version": 3
   },
   "file_extension": ".py",
   "mimetype": "text/x-python",
   "name": "python",
   "nbconvert_exporter": "python",
   "pygments_lexer": "ipython3",
   "version": "3.12.10"
  }
 },
 "nbformat": 4,
 "nbformat_minor": 5
}

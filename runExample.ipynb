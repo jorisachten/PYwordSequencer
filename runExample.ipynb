{
 "cells": [
  {
   "cell_type": "code",
   "execution_count": null,
   "id": "36f5510e-3ea6-43b5-ac5c-46735e020319",
   "metadata": {},
   "outputs": [],
   "source": [
    "from PYwordTester.test_runner import testInstance\n",
    "from PYwordTester.test_context import TestContext"
   ]
  },
  {
   "cell_type": "markdown",
   "id": "2a440dc2-3812-46f2-bbd8-be9d5675cf50",
   "metadata": {},
   "source": [
    "# PYwordTester usage example\n",
    "\n",
    "This example demonstrates a human friendly terminal menu to load and execute tests. You can also have a look at the basic test example for minimal understanding."
   ]
  },
  {
   "cell_type": "markdown",
   "id": "2b711685-135e-40f4-8431-c1153ddbc06e",
   "metadata": {},
   "source": [
    "## imports and settings for example\n",
    "In the cell below you can set in which folder the script looks for tests to be executed, and where to place the filled in reports. This needs to be a local path."
   ]
  },
  {
   "cell_type": "code",
   "execution_count": null,
   "id": "65585d2d-90f8-4e8c-afeb-8cd67a5ae91a",
   "metadata": {},
   "outputs": [],
   "source": [
    "from pathlib import Path\n",
    "from datetime import datetime\n",
    "import os\n",
    "\n",
    "test_folder = Path('TestExamples')\n",
    "test_folder.mkdir(exist_ok=True)\n",
    "report_folder = Path('report')\n",
    "report_folder.mkdir(exist_ok=True)"
   ]
  },
  {
   "cell_type": "markdown",
   "id": "b50b0010-c71b-4427-92e4-89fd6c88a7dd",
   "metadata": {},
   "source": [
    "## Select and execut\n",
    "scan through the given test folder for all .docx files and present them to an user. The user can enter a number corrosponding to an item to execute the test"
   ]
  },
  {
   "cell_type": "code",
   "execution_count": null,
   "id": "c1b770ac-6f95-4a9a-ab75-3e59346c02ec",
   "metadata": {},
   "outputs": [],
   "source": [
    "## lookup all docx files, and sort them from new to old\n",
    "docx_files = sorted(\n",
    "    [f for f in test_folder.glob(\"*.docx\")],\n",
    "    key=lambda f: f.stat().st_mtime,\n",
    "    reverse=True\n",
    ")\n",
    "\n",
    "\n",
    "## show user what files he can pick\n",
    "print(f\"\\nAvailable .docx files in test folder '{test_folder}':\")\n",
    "print(f\"{'No.':<5} {'File Name':<40} {'Last Modified':<20}\")\n",
    "print('-' * 70)\n",
    "\n",
    "file_data = [(i, f.name, datetime.fromtimestamp(f.stat().st_mtime).strftime('%d-%b-%Y %H:%M:%S')) \n",
    "             for i, f in enumerate(docx_files, start=1)]\n",
    "\n",
    "for i, name, date in file_data:\n",
    "    print(f\"[{i:<2}] {name:<40} {date:<20}\")\n",
    "\n",
    "\n",
    "## let user pick a file, run test for selected file\n",
    "file_name = ''\n",
    "while file_name == '':\n",
    "    choice = input(\"\\nEnter the number of your chosen test (or 0 to cancel): \")\n",
    "    if choice.isdigit(): \n",
    "        if int(choice) == 0:\n",
    "            file_name = None\n",
    "        elif int(choice) <= len(docx_files):\n",
    "            file_name = file_data[int(choice) - 1][1]\n",
    "\n",
    "            ##### execute the test ######\n",
    "            context = TestContext(globals_to_import=test_folder)\n",
    "            test = testInstance(test_folder / file_name, context)\n",
    "            test.run()\n",
    "            test.addTestSummaryFrontPage()\n",
    "            test.saveFile(report_folder / 'testresult.docx', True)\n",
    "\n",
    "            #############################\n",
    "        \n",
    "        else:\n",
    "            print(\"Invalid number.\")\n",
    "    else:\n",
    "        print(\"Invalid choise.\")"
   ]
  },
  {
   "cell_type": "markdown",
   "id": "30cb92a8-07aa-4dfc-9468-1cc885b45956",
   "metadata": {},
   "source": [
    "## Third party integration\n",
    "below you can inspect the panda DF tables that you can use to integrate third party outputs like excel files, databases, ..."
   ]
  },
  {
   "cell_type": "code",
   "execution_count": null,
   "id": "c969ece1-5436-497d-8878-a77f2ca4a58e",
   "metadata": {},
   "outputs": [],
   "source": [
    "test.getTestSummary()"
   ]
  },
  {
   "cell_type": "code",
   "execution_count": null,
   "id": "80c4bfbb-d8a7-49cd-92e8-c4384eaf0478",
   "metadata": {},
   "outputs": [],
   "source": [
    "test.getTestDetails()"
   ]
  },
  {
   "cell_type": "code",
   "execution_count": null,
   "id": "1c123719-c003-4aa4-9ecd-9cf6632e49f4",
   "metadata": {},
   "outputs": [],
   "source": [
    "test.getTestKVP()"
   ]
  }
 ],
 "metadata": {
  "kernelspec": {
   "display_name": "Python 3 (ipykernel)",
   "language": "python",
   "name": "python3"
  },
  "language_info": {
   "codemirror_mode": {
    "name": "ipython",
    "version": 3
   },
   "file_extension": ".py",
   "mimetype": "text/x-python",
   "name": "python",
   "nbconvert_exporter": "python",
   "pygments_lexer": "ipython3",
   "version": "3.11.4"
  }
 },
 "nbformat": 4,
 "nbformat_minor": 5
}
